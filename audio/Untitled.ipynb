{
 "cells": [
  {
   "cell_type": "code",
   "execution_count": 1,
   "id": "0790911b-63f1-4764-83aa-e558c09167f1",
   "metadata": {},
   "outputs": [
    {
     "name": "stdout",
     "output_type": "stream",
     "text": [
      "Populating the interactive namespace from numpy and matplotlib\n"
     ]
    }
   ],
   "source": [
    "%pylab ipympl\n",
    "import os, glob"
   ]
  },
  {
   "cell_type": "code",
   "execution_count": 2,
   "id": "299db9e9-d054-49e8-984e-f270d8faafe9",
   "metadata": {},
   "outputs": [
    {
     "data": {
      "text/plain": [
       "['Any Kind A Man-[AudioTrimmer.com].mp3',\n",
       " 'Deke Lion March-[AudioTrimmer.com].mp3',\n",
       " 'Delta Kappa Epsilon-[AudioTrimmer.com].mp3',\n",
       " 'Friends From The Heart-[AudioTrimmer.com].mp3',\n",
       " 'Marching Song-[AudioTrimmer.com].mp3',\n",
       " 'O Drink To DKE-[AudioTrimmer.com].mp3',\n",
       " 'Oh The Red Hot Spot-[AudioTrimmer.com].mp3',\n",
       " 'Phi Marching Song-[AudioTrimmer.com].mp3',\n",
       " 'Son Of A DKE-[AudioTrimmer.com].mp3',\n",
       " 'The Darling Maid-[AudioTrimmer.com].mp3',\n",
       " 'Vive La DKE-[AudioTrimmer.com].mp3',\n",
       " 'We Hail The Holy Goddess-[AudioTrimmer.com].mp3']"
      ]
     },
     "execution_count": 2,
     "metadata": {},
     "output_type": "execute_result"
    }
   ],
   "source": [
    "from os import listdir\n",
    "from os.path import isfile, join\n",
    "onlyfiles = [f for f in listdir(\"songs\") if isfile(join(\"songs\", f))]\n",
    "onlyfiles"
   ]
  },
  {
   "cell_type": "code",
   "execution_count": 5,
   "id": "5cd95840-da7b-437c-b2b1-66860909d13d",
   "metadata": {},
   "outputs": [],
   "source": [
    "myList = []\n",
    "for item in onlyfiles:\n",
    "    myList.append(item.replace(\"-[AudioTrimmer.com]\", \"\"))\n"
   ]
  },
  {
   "cell_type": "code",
   "execution_count": 8,
   "id": "7b862b9f-61ce-4cbd-9728-274772b3f4f6",
   "metadata": {},
   "outputs": [
    {
     "ename": "FileNotFoundError",
     "evalue": "[WinError 2] The system cannot find the file specified: 'songs/Any Kind A Man-[AudioTrimmer.com].mp3' -> 'newSongs/Any Kind A Man.mp3'",
     "output_type": "error",
     "traceback": [
      "\u001b[1;31m---------------------------------------------------------------------------\u001b[0m",
      "\u001b[1;31mFileNotFoundError\u001b[0m                         Traceback (most recent call last)",
      "\u001b[1;32m<ipython-input-8-c44e160b9316>\u001b[0m in \u001b[0;36m<module>\u001b[1;34m\u001b[0m\n\u001b[0;32m      1\u001b[0m \u001b[1;32mfor\u001b[0m \u001b[0mcount\u001b[0m \u001b[1;32min\u001b[0m \u001b[0mrange\u001b[0m\u001b[1;33m(\u001b[0m\u001b[1;36m0\u001b[0m\u001b[1;33m,\u001b[0m \u001b[0mlen\u001b[0m\u001b[1;33m(\u001b[0m\u001b[0monlyfiles\u001b[0m\u001b[1;33m)\u001b[0m\u001b[1;33m)\u001b[0m\u001b[1;33m:\u001b[0m\u001b[1;33m\u001b[0m\u001b[1;33m\u001b[0m\u001b[0m\n\u001b[1;32m----> 2\u001b[1;33m     \u001b[0mos\u001b[0m\u001b[1;33m.\u001b[0m\u001b[0mrename\u001b[0m\u001b[1;33m(\u001b[0m\u001b[1;34m\"songs/\"\u001b[0m\u001b[1;33m+\u001b[0m\u001b[0monlyfiles\u001b[0m\u001b[1;33m[\u001b[0m\u001b[0mcount\u001b[0m\u001b[1;33m]\u001b[0m\u001b[1;33m,\u001b[0m \u001b[1;34m\"newSongs/\"\u001b[0m\u001b[1;33m+\u001b[0m\u001b[0mmyList\u001b[0m\u001b[1;33m[\u001b[0m\u001b[0mcount\u001b[0m\u001b[1;33m]\u001b[0m\u001b[1;33m)\u001b[0m\u001b[1;33m\u001b[0m\u001b[1;33m\u001b[0m\u001b[0m\n\u001b[0m",
      "\u001b[1;31mFileNotFoundError\u001b[0m: [WinError 2] The system cannot find the file specified: 'songs/Any Kind A Man-[AudioTrimmer.com].mp3' -> 'newSongs/Any Kind A Man.mp3'"
     ]
    }
   ],
   "source": [
    "for count in range(0, len(onlyfiles)):\n",
    "    os.rename(\"songs/\"+onlyfiles[count], \"newSongs/\"+myList[count])"
   ]
  },
  {
   "cell_type": "code",
   "execution_count": null,
   "id": "cc60a8cd-6c9e-4679-a17d-83cc01890396",
   "metadata": {},
   "outputs": [],
   "source": []
  }
 ],
 "metadata": {
  "kernelspec": {
   "display_name": "Python 3",
   "language": "python",
   "name": "python3"
  },
  "language_info": {
   "codemirror_mode": {
    "name": "ipython",
    "version": 3
   },
   "file_extension": ".py",
   "mimetype": "text/x-python",
   "name": "python",
   "nbconvert_exporter": "python",
   "pygments_lexer": "ipython3",
   "version": "3.8.8"
  }
 },
 "nbformat": 4,
 "nbformat_minor": 5
}
